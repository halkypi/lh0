{
 "cells": [
  {
   "cell_type": "markdown",
   "metadata": {},
   "source": [
    "# SciKit-Learn"
   ]
  },
  {
   "cell_type": "markdown",
   "metadata": {
    "slideshow": {
     "slide_type": "slide"
    }
   },
   "source": [
    "Scikit-learn contains simple and efficient tools for data mining and data analysis.  It implements a wide variety of machine learning algorithms and processes to conduct advanced analytics.\n",
    "\n",
    "Library documentation: <a>http://scikit-learn.org/stable/</a>\n",
    "\n",
    "#### Classification with a Naive Bayes\n",
    "\n",
    "- 2 classes of headlines \"upworthy\" (1) and \"not upworthy\" (0) \n",
    "- Load the data\n",
    "- Featurize the data\n",
    "- Train and Test the classifier the *right* way\n",
    "- Use the model to predict new headlines\n",
    "\n",
    "#### Let's start with a helper function for loading the raw data"
   ]
  },
  {
   "cell_type": "code",
   "execution_count": null,
   "metadata": {
    "slideshow": {
     "slide_type": "fragment"
    }
   },
   "outputs": [],
   "source": [
    "def import_titles(filename):\n",
    "    #Imports text file\n",
    "    titles = open(filename, 'rb').read()\n",
    "    # Handles unicode encode/decode\n",
    "    titles = titles.decode('utf-8')\n",
    "    titles = titles.encode('ascii', 'ignore')\n",
    "\n",
    "    return titles.splitlines()"
   ]
  },
  {
   "cell_type": "code",
   "execution_count": null,
   "metadata": {
    "slideshow": {
     "slide_type": "slide"
    }
   },
   "outputs": [],
   "source": [
    "upworthy_titles = import_titles('./data/upworthy_titles.txt')\n",
    "\n",
    "print(len(upworthy_titles))\n",
    "upworthy_titles[:5] # first five\n"
   ]
  },
  {
   "cell_type": "code",
   "execution_count": null,
   "metadata": {
    "slideshow": {
     "slide_type": "slide"
    }
   },
   "outputs": [],
   "source": [
    "times_titles = import_titles('./data/not_upworthy_titles.txt')\n",
    "\n",
    "print(len(times_titles))\n",
    "times_titles[:5] # first five"
   ]
  },
  {
   "cell_type": "markdown",
   "metadata": {
    "slideshow": {
     "slide_type": "slide"
    }
   },
   "source": [
    "### What we want the data to look like next\n",
    "\n",
    "| upworthy | titles\n",
    "|:-----------|:------------|\n",
    "| 1 | He Was About To Take His Own Life — Until A Man Stopped Him. Here He Meets Him Face To Face Again     \n",
    "| 0 | CVS Pharmacy to Stop Selling Tobacco Goods by October  \n",
    "| 0 | Twitter’s Share Price Falls After It Reports a Loss \n",
    "| 1 | A 16-Year-Old Explains Why Everything You Thought You Knew About Beauty May Be Wrong. With Math.\n"
   ]
  },
  {
   "cell_type": "code",
   "execution_count": null,
   "metadata": {
    "slideshow": {
     "slide_type": "slide"
    }
   },
   "outputs": [],
   "source": [
    "#Set up placehold lists\n",
    "upworthy = []\n",
    "titles   = []\n",
    "\n",
    "#Go through all the upworthy articles\n",
    "for title in upworthy_titles:\n",
    "    #add title to title list\n",
    "    titles.append(title)\n",
    "    #add 1 to Y list\n",
    "    upworthy.append(1) # Upworthy = 1\n",
    "\n",
    "for title in times_titles:\n",
    "    titles.append(title)\n",
    "    upworthy.append(0) # Upworthy = 0  "
   ]
  },
  {
   "cell_type": "markdown",
   "metadata": {
    "slideshow": {
     "slide_type": "slide"
    }
   },
   "source": [
    "### What the machine wants the data to look like next\n",
    "\n",
    "| upworthy | stop   | man  | obama  | explain  | everything  | you  | nato  | debate | industry | believe  \n",
    "|:-----------|:----:| :----:| :----:| :----:| :----:| :----:| :----:| :----:| :----:| :----:| :----:| \n",
    "| 1       | 0 | 1  | 0 | 0  | 0 | 2  | 0 | 0  | 0 | 1  \n",
    "| 0       | 1 | 0  | 0 | 0  | 0 | 0  | 1| 1 | 0 | 0  \n",
    "| 0       | 0 | 0  |1 | 1  | 0 | 0  | 0 | 0  | 1 | 0  \n",
    "| 1       | 0 | 0  | 0 | 0  | 0 | 1  | 0 | 1   | 0 | 0  \n"
   ]
  },
  {
   "cell_type": "code",
   "execution_count": null,
   "metadata": {
    "slideshow": {
     "slide_type": "fragment"
    }
   },
   "outputs": [],
   "source": [
    "from sklearn.feature_extraction.text import CountVectorizer\n",
    "\n",
    "vectorizer = CountVectorizer(lowercase     = True ,\n",
    "                             min_df        = 2 ,\n",
    "                             max_df        = .5 ,\n",
    "                             ngram_range   = (1, 1),\n",
    "                             stop_words    = 'english', \n",
    "                             strip_accents = 'unicode')\n",
    "vectorizer.fit(titles)\n",
    "X = vectorizer.transform(titles)"
   ]
  },
  {
   "cell_type": "markdown",
   "metadata": {},
   "source": [
    "### Fit a Multinomial Naive Bayes Classifier"
   ]
  },
  {
   "cell_type": "code",
   "execution_count": null,
   "metadata": {
    "slideshow": {
     "slide_type": "slide"
    }
   },
   "outputs": [],
   "source": [
    "from sklearn.naive_bayes import MultinomialNB\n",
    "\n",
    "clf = MultinomialNB()\n",
    "clf.fit(X,upworthy)\n",
    "\n",
    "# Predict on the same data used for training (don't do this at home)\n",
    "y_hat = clf.predict(X) \n",
    "\n",
    "# Print out some predictions\n",
    "y_hat[:20]"
   ]
  },
  {
   "cell_type": "markdown",
   "metadata": {
    "slideshow": {
     "slide_type": "fragment"
    }
   },
   "source": [
    "### What % were correctly predicted?"
   ]
  },
  {
   "cell_type": "code",
   "execution_count": null,
   "metadata": {
    "slideshow": {
     "slide_type": "fragment"
    }
   },
   "outputs": [],
   "source": [
    "clf.score(X, upworthy)"
   ]
  },
  {
   "cell_type": "markdown",
   "metadata": {},
   "source": [
    "### Use better fit statistics (a confusion matrix)"
   ]
  },
  {
   "cell_type": "code",
   "execution_count": null,
   "metadata": {},
   "outputs": [],
   "source": [
    "# A helper function to plot the matrix\n",
    "import itertools\n",
    "import numpy as np\n",
    "import matplotlib.pyplot as plt\n",
    "\n",
    "def plot_confusion_matrix(cm):\n",
    "    plt.matshow(cm,cmap=plt.cm.Blues)\n",
    "    classes = ['not upworthy','upworthy']\n",
    "    tick_marks = np.arange(len(classes))\n",
    "    plt.xticks(tick_marks, classes, rotation=45)\n",
    "    plt.yticks(tick_marks, classes)\n",
    "    # Plot Values\n",
    "    for i, j in itertools.product(range(cm.shape[0]), range(cm.shape[1])):\n",
    "        plt.text(j, i, cm[i, j],\n",
    "                 horizontalalignment=\"center\", color=\"black\")\n",
    "\n",
    "    plt.ylabel('Actual')\n",
    "    plt.xlabel('Predicted')\n",
    "    plt.show()\n",
    "\n",
    "# Create and plot confusion matrix\n",
    "from sklearn import metrics\n",
    "cm = metrics.confusion_matrix(upworthy, y_hat)\n",
    "\n",
    "plot_confusion_matrix(cm)"
   ]
  },
  {
   "cell_type": "markdown",
   "metadata": {
    "slideshow": {
     "slide_type": "slide"
    }
   },
   "source": [
    "### Data scientists care about over fitting...so should we"
   ]
  },
  {
   "cell_type": "code",
   "execution_count": null,
   "metadata": {
    "slideshow": {
     "slide_type": "fragment"
    }
   },
   "outputs": [],
   "source": [
    "from sklearn.model_selection import train_test_split\n",
    "\n",
    "# Split Test / Train\n",
    "X_train, X_test, y_train, y_test = train_test_split(X, upworthy, test_size=0.3)"
   ]
  },
  {
   "cell_type": "code",
   "execution_count": null,
   "metadata": {
    "slideshow": {
     "slide_type": "fragment"
    }
   },
   "outputs": [],
   "source": [
    "clf.fit(X_train, y_train)\n",
    "y_test_pred = clf.predict(X_test)\n",
    "\n",
    "print(\"classification accuracy:\", metrics.accuracy_score(y_test, y_test_pred))\n",
    "cm = metrics.confusion_matrix(y_test, y_test_pred)\n",
    "plot_confusion_matrix(cm)"
   ]
  },
  {
   "cell_type": "markdown",
   "metadata": {
    "slideshow": {
     "slide_type": "slide"
    }
   },
   "source": [
    "This is unstable for some reason (skip for now):\n",
    "```\n",
    "from sklearn import cross_validation\n",
    "\n",
    "cross_validation.cross_val_score(clf, X, np.array(upworthy),  cv=10)\n",
    "\n",
    "np.mean(cross_validation.cross_val_score(clf, X, np.array(upworthy),  cv=10))\n",
    "```"
   ]
  },
  {
   "cell_type": "markdown",
   "metadata": {
    "slideshow": {
     "slide_type": "slide"
    }
   },
   "source": [
    "### What about for predicting new headlines?"
   ]
  },
  {
   "cell_type": "code",
   "execution_count": null,
   "metadata": {
    "slideshow": {
     "slide_type": "fragment"
    }
   },
   "outputs": [],
   "source": [
    "soc_title = 'Educational Assortative Mating and Earnings Inequality in the United States'\n",
    "soc_title_vector = vectorizer.transform([soc_title])\n",
    "clf.predict_proba(soc_title_vector)"
   ]
  },
  {
   "cell_type": "code",
   "execution_count": null,
   "metadata": {
    "slideshow": {
     "slide_type": "fragment"
    }
   },
   "outputs": [],
   "source": [
    "gawker_title = 'Shocking Footage Aired of Police Shooting Face-Eating Nude Man'\n",
    "gawker_title_vector = vectorizer.transform([gawker_title])\n",
    "clf.predict_proba(gawker_title_vector)"
   ]
  },
  {
   "cell_type": "code",
   "execution_count": null,
   "metadata": {
    "collapsed": true
   },
   "outputs": [],
   "source": []
  }
 ],
 "metadata": {
  "anaconda-cloud": {},
  "kernelspec": {
   "display_name": "Python 3",
   "language": "python",
   "name": "python3"
  },
  "language_info": {
   "codemirror_mode": {
    "name": "ipython",
    "version": 3
   },
   "file_extension": ".py",
   "mimetype": "text/x-python",
   "name": "python",
   "nbconvert_exporter": "python",
   "pygments_lexer": "ipython3",
   "version": "3.6.7"
  }
 },
 "nbformat": 4,
 "nbformat_minor": 1
}
