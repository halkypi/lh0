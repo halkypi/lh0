{
 "cells": [
  {
   "cell_type": "markdown",
   "metadata": {},
   "source": [
    "# Seaborn"
   ]
  },
  {
   "cell_type": "markdown",
   "metadata": {},
   "source": [
    "Seaborn is a library for making attractive and informative statistical graphics in Python. It is built on top of matplotlib and tightly integrated with the PyData stack, including support for numpy and pandas data structures and statistical routines from scipy and statsmodels.\n",
    "\n",
    "Library documentation: <a>http://stanford.edu/~mwaskom/software/seaborn/</a>"
   ]
  },
  {
   "cell_type": "code",
   "execution_count": null,
   "metadata": {
    "collapsed": false
   },
   "outputs": [],
   "source": [
    "import numpy as np\n",
    "import pandas as pd\n",
    "import matplotlib.pyplot as plt\n",
    "import seaborn as sb\n",
    "%matplotlib inline"
   ]
  },
  {
   "cell_type": "markdown",
   "metadata": {},
   "source": [
    "### Themes"
   ]
  },
  {
   "cell_type": "code",
   "execution_count": null,
   "metadata": {
    "collapsed": false
   },
   "outputs": [],
   "source": [
    "# global config settings to control things like style, font size, color palette etc.\n",
    "sb.set(context=\"notebook\", style=\"darkgrid\", palette=\"dark\")"
   ]
  },
  {
   "cell_type": "code",
   "execution_count": null,
   "metadata": {
    "collapsed": false
   },
   "outputs": [],
   "source": [
    "# seaborn has some nice built-in color palette features\n",
    "sb.palplot(sb.color_palette())\n",
    "sb.palplot(sb.color_palette(\"husl\", 8))\n",
    "sb.palplot(sb.color_palette(\"hls\", 8))"
   ]
  },
  {
   "cell_type": "code",
   "execution_count": null,
   "metadata": {
    "collapsed": false
   },
   "outputs": [],
   "source": [
    "# matplotlib colormap of evenly spaced colors\n",
    "sb.palplot(sb.color_palette(\"coolwarm\", 7))"
   ]
  },
  {
   "cell_type": "code",
   "execution_count": null,
   "metadata": {
    "collapsed": false
   },
   "outputs": [],
   "source": [
    "# sequential palette with linear increase in brightness\n",
    "sb.palplot(sb.cubehelix_palette(8))"
   ]
  },
  {
   "cell_type": "code",
   "execution_count": null,
   "metadata": {
    "collapsed": false
   },
   "outputs": [],
   "source": [
    "# palettes are used in a plot via the color paramter\n",
    "gammas = sb.load_dataset(\"gammas\")\n",
    "sb.tsplot(gammas, \"timepoint\", \"subject\", \"ROI\", \"BOLD signal\", color=\"muted\")"
   ]
  },
  {
   "cell_type": "markdown",
   "metadata": {},
   "source": [
    "### Advanced Plots"
   ]
  },
  {
   "cell_type": "code",
   "execution_count": null,
   "metadata": {
    "collapsed": false
   },
   "outputs": [],
   "source": [
    "# facetting histograms by subsets of data\n",
    "sb.set(style=\"darkgrid\")\n",
    "\n",
    "tips = sb.load_dataset(\"tips\")\n",
    "g = sb.FacetGrid(tips, row=\"sex\", col=\"time\", margin_titles=True)\n",
    "bins = np.linspace(0, 60, 13)\n",
    "g.map(plt.hist, \"total_bill\", color=\"steelblue\", bins=bins, lw=0)"
   ]
  },
  {
   "cell_type": "code",
   "execution_count": null,
   "metadata": {
    "collapsed": false
   },
   "outputs": [],
   "source": [
    "# several distribution plot examples\n",
    "sb.set(style=\"white\", palette=\"muted\")\n",
    "f, axes = plt.subplots(2, 2, figsize=(7, 7), sharex=True)\n",
    "sb.despine(left=True)\n",
    "\n",
    "rs = np.random.RandomState(10)\n",
    "\n",
    "b, g, r, p = sb.color_palette(\"muted\", 4)\n",
    "\n",
    "d = rs.normal(size=100)\n",
    "\n",
    "sb.distplot(d, kde=False, color=b, ax=axes[0, 0])\n",
    "sb.distplot(d, hist=False, rug=True, color=r, ax=axes[0, 1])\n",
    "sb.distplot(d, hist=False, color=g, kde_kws={\"shade\": True}, ax=axes[1, 0])\n",
    "sb.distplot(d, color=p, ax=axes[1, 1])\n",
    "\n",
    "plt.setp(axes, yticks=[])\n",
    "plt.tight_layout()"
   ]
  },
  {
   "cell_type": "code",
   "execution_count": null,
   "metadata": {
    "collapsed": false
   },
   "outputs": [],
   "source": [
    "# hexbin plot with marginal distributions\n",
    "from scipy.stats import kendalltau\n",
    "sb.set(style=\"ticks\")\n",
    "\n",
    "rs = np.random.RandomState(11)\n",
    "x = rs.gamma(2, size=1000)\n",
    "y = -.5 * x + rs.normal(size=1000)\n",
    "sb.jointplot(x, y, kind=\"hex\", stat_func=kendalltau, color=\"#4CB391\")"
   ]
  },
  {
   "cell_type": "code",
   "execution_count": null,
   "metadata": {
    "collapsed": false
   },
   "outputs": [],
   "source": [
    "# faceted logistic regression\n",
    "sb.set(style=\"darkgrid\")\n",
    "df = sb.load_dataset(\"titanic\")\n",
    "\n",
    "pal = dict(male=\"#6495ED\", female=\"#F08080\")\n",
    "g = sb.lmplot(\"age\", \"survived\", col=\"sex\", hue=\"sex\", data=df,\n",
    "               palette=pal, y_jitter=.02, logistic=True)\n",
    "g.set(xlim=(0, 80), ylim=(-.05, 1.05))"
   ]
  },
  {
   "cell_type": "code",
   "execution_count": null,
   "metadata": {
    "collapsed": false
   },
   "outputs": [],
   "source": [
    "# linear regression with marginal distributions\n",
    "sb.set(style=\"darkgrid\")\n",
    "tips = sb.load_dataset(\"tips\")\n",
    "color = sb.color_palette()[2]\n",
    "g = sb.jointplot(\"total_bill\", \"tip\", data=tips, kind=\"reg\",\n",
    "                  xlim=(0, 60), ylim=(0, 12), color=color, size=7)"
   ]
  },
  {
   "cell_type": "code",
   "execution_count": null,
   "metadata": {
    "collapsed": false
   },
   "outputs": [],
   "source": [
    "# correlation matrix\n",
    "sb.set(style=\"darkgrid\")\n",
    "\n",
    "rs = np.random.RandomState(33)\n",
    "d = rs.normal(size=(100, 30))\n",
    "\n",
    "f, ax = plt.subplots(figsize=(9, 9))\n",
    "cmap = sb.blend_palette([\"#00008B\", \"#6A5ACD\", \"#F0F8FF\",\n",
    "                          \"#FFE6F8\", \"#C71585\", \"#8B0000\"], as_cmap=True)\n",
    "sb.heatmap(d, annot=False, cmap=cmap, ax=ax)\n",
    "f.tight_layout()"
   ]
  },
  {
   "cell_type": "code",
   "execution_count": null,
   "metadata": {
    "collapsed": false
   },
   "outputs": [],
   "source": [
    "# pair plot example\n",
    "sb.set(style=\"darkgrid\")\n",
    "df = sb.load_dataset(\"iris\")\n",
    "sb.pairplot(df, hue=\"species\", size=2.5)"
   ]
  },
  {
   "cell_type": "code",
   "execution_count": null,
   "metadata": {
    "collapsed": true
   },
   "outputs": [],
   "source": []
  }
 ],
 "metadata": {
  "anaconda-cloud": {},
  "kernelspec": {
   "display_name": "Python 3",
   "language": "python",
   "name": "python3"
  },
  "language_info": {
   "codemirror_mode": {
    "name": "ipython",
    "version": 3
   },
   "file_extension": ".py",
   "mimetype": "text/x-python",
   "name": "python",
   "nbconvert_exporter": "python",
   "pygments_lexer": "ipython3",
   "version": "3.6.0"
  }
 },
 "nbformat": 4,
 "nbformat_minor": 0
}
